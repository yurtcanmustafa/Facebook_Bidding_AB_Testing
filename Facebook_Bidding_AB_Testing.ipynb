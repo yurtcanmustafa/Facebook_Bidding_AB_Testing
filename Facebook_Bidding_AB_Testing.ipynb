{
 "cells": [
  {
   "cell_type": "markdown",
   "id": "49b42178",
   "metadata": {},
   "source": [
    "# Facebook_Bidding_AB_Testing"
   ]
  },
  {
   "cell_type": "code",
   "execution_count": 1,
   "id": "d4c9bf7b",
   "metadata": {},
   "outputs": [],
   "source": [
    "import pandas as pd\n",
    "import matplotlib.pyplot as plt\n",
    "import seaborn as sns\n",
    "import numpy as np\n",
    "from scipy.stats import shapiro, levene, ttest_ind\n",
    "pd.set_option('display.max_columns', None)\n",
    "pd.set_option('display.max_rows', 10)\n",
    "pd.set_option('display.float_format', lambda x: '%.3f' % x)"
   ]
  },
  {
   "cell_type": "code",
   "execution_count": 3,
   "id": "05d1ba47",
   "metadata": {},
   "outputs": [],
   "source": [
    "#Importing Data\n",
    "Control_Group = pd.read_excel(\"/Users/yurtcanmustafa/Desktop/DataScience/ab_testing.xlsx\", sheet_name = 'Control Group')  # maximum bidding\n",
    "Test_Group = pd.read_excel(\"/Users/yurtcanmustafa/Desktop/DataScience/ab_testing.xlsx\", sheet_name = 'Test Group')        # average bidding"
   ]
  },
  {
   "cell_type": "code",
   "execution_count": 4,
   "id": "bc31e52b",
   "metadata": {},
   "outputs": [],
   "source": [
    "def check_df(dataframe, head=5):\n",
    "    print(\"### Head ###\")\n",
    "    print(dataframe.head(head))\n",
    "    print(\"### Tail ###\")\n",
    "    print(dataframe.tail(head))\n",
    "    print(\"###Shape ###\")\n",
    "    print(dataframe.shape)\n",
    "    print(\"### Types ###\")\n",
    "    print(dataframe.dtypes)\n",
    "    print(\"### NA ###\")\n",
    "    print(dataframe.isnull().sum())\n",
    "    print(\"### Describe ###\")\n",
    "    print(dataframe.describe().T)"
   ]
  },
  {
   "cell_type": "code",
   "execution_count": 5,
   "id": "4963d041",
   "metadata": {},
   "outputs": [
    {
     "name": "stdout",
     "output_type": "stream",
     "text": [
      "### Head ###\n",
      "   Impression    Click  Purchase  Earning\n",
      "0   82529.459 6090.077   665.211 2311.277\n",
      "1   98050.452 3382.862   315.085 1742.807\n",
      "2   82696.024 4167.966   458.084 1797.827\n",
      "3  109914.400 4910.882   487.091 1696.229\n",
      "4  108457.763 5987.656   441.034 1543.720\n",
      "### Tail ###\n",
      "    Impression    Click  Purchase  Earning\n",
      "35  132064.219 3747.158   551.072 2256.976\n",
      "36   86409.942 4608.256   345.046 1781.358\n",
      "37  123678.934 3649.074   476.168 2187.721\n",
      "38  101997.494 4736.353   474.614 2254.564\n",
      "39  121085.881 4285.179   590.406 1289.309\n",
      "###Shape ###\n",
      "(40, 4)\n",
      "### Types ###\n",
      "Impression    float64\n",
      "Click         float64\n",
      "Purchase      float64\n",
      "Earning       float64\n",
      "dtype: object\n",
      "### NA ###\n",
      "Impression    0\n",
      "Click         0\n",
      "Purchase      0\n",
      "Earning       0\n",
      "dtype: int64\n",
      "### Describe ###\n",
      "            count       mean       std       min       25%       50%  \\\n",
      "Impression 40.000 101711.449 20302.158 45475.943 85726.690 99790.701   \n",
      "Click      40.000   5100.657  1329.985  2189.753  4124.304  5001.221   \n",
      "Purchase   40.000    550.894   134.108   267.029   470.096   531.206   \n",
      "Earning    40.000   1908.568   302.918  1253.990  1685.847  1975.161   \n",
      "\n",
      "                  75%        max  \n",
      "Impression 115212.817 147539.336  \n",
      "Click        5923.804   7959.125  \n",
      "Purchase      637.957    801.795  \n",
      "Earning      2119.803   2497.295  \n"
     ]
    }
   ],
   "source": [
    "check_df(Control_Group)"
   ]
  },
  {
   "cell_type": "code",
   "execution_count": 6,
   "id": "c0f465b9",
   "metadata": {},
   "outputs": [
    {
     "name": "stdout",
     "output_type": "stream",
     "text": [
      "### Head ###\n",
      "   Impression    Click  Purchase  Earning\n",
      "0  120103.504 3216.548   702.160 1939.611\n",
      "1  134775.943 3635.082   834.054 2929.406\n",
      "2  107806.621 3057.144   422.934 2526.245\n",
      "3  116445.276 4650.474   429.034 2281.429\n",
      "4  145082.517 5201.388   749.860 2781.698\n",
      "### Tail ###\n",
      "    Impression    Click  Purchase  Earning\n",
      "35   79234.912 6002.214   382.047 2277.864\n",
      "36  130702.239 3626.320   449.825 2530.841\n",
      "37  116481.873 4702.782   472.454 2597.918\n",
      "38   79033.835 4495.428   425.359 2595.858\n",
      "39  102257.454 4800.068   521.311 2967.518\n",
      "###Shape ###\n",
      "(40, 4)\n",
      "### Types ###\n",
      "Impression    float64\n",
      "Click         float64\n",
      "Purchase      float64\n",
      "Earning       float64\n",
      "dtype: object\n",
      "### NA ###\n",
      "Impression    0\n",
      "Click         0\n",
      "Purchase      0\n",
      "Earning       0\n",
      "dtype: int64\n",
      "### Describe ###\n",
      "            count       mean       std       min        25%        50%  \\\n",
      "Impression 40.000 120512.412 18807.449 79033.835 112691.971 119291.301   \n",
      "Click      40.000   3967.550   923.095  1836.630   3376.819   3931.360   \n",
      "Purchase   40.000    582.106   161.153   311.630    444.627    551.356   \n",
      "Earning    40.000   2514.891   282.731  1939.611   2280.537   2544.666   \n",
      "\n",
      "                  75%        max  \n",
      "Impression 132050.579 158605.920  \n",
      "Click        4660.498   6019.695  \n",
      "Purchase      699.862    889.910  \n",
      "Earning      2761.545   3171.490  \n"
     ]
    }
   ],
   "source": [
    "check_df(Test_Group)"
   ]
  },
  {
   "cell_type": "code",
   "execution_count": 8,
   "id": "eddeb8d6",
   "metadata": {},
   "outputs": [
    {
     "data": {
      "text/html": [
       "<div>\n",
       "<style scoped>\n",
       "    .dataframe tbody tr th:only-of-type {\n",
       "        vertical-align: middle;\n",
       "    }\n",
       "\n",
       "    .dataframe tbody tr th {\n",
       "        vertical-align: top;\n",
       "    }\n",
       "\n",
       "    .dataframe thead th {\n",
       "        text-align: right;\n",
       "    }\n",
       "</style>\n",
       "<table border=\"1\" class=\"dataframe\">\n",
       "  <thead>\n",
       "    <tr style=\"text-align: right;\">\n",
       "      <th></th>\n",
       "      <th>Impression_Control</th>\n",
       "      <th>Click_Control</th>\n",
       "      <th>Purchase_Control</th>\n",
       "      <th>Earning_Control</th>\n",
       "    </tr>\n",
       "  </thead>\n",
       "  <tbody>\n",
       "    <tr>\n",
       "      <th>0</th>\n",
       "      <td>82529.459</td>\n",
       "      <td>6090.077</td>\n",
       "      <td>665.211</td>\n",
       "      <td>2311.277</td>\n",
       "    </tr>\n",
       "    <tr>\n",
       "      <th>1</th>\n",
       "      <td>98050.452</td>\n",
       "      <td>3382.862</td>\n",
       "      <td>315.085</td>\n",
       "      <td>1742.807</td>\n",
       "    </tr>\n",
       "    <tr>\n",
       "      <th>2</th>\n",
       "      <td>82696.024</td>\n",
       "      <td>4167.966</td>\n",
       "      <td>458.084</td>\n",
       "      <td>1797.827</td>\n",
       "    </tr>\n",
       "    <tr>\n",
       "      <th>3</th>\n",
       "      <td>109914.400</td>\n",
       "      <td>4910.882</td>\n",
       "      <td>487.091</td>\n",
       "      <td>1696.229</td>\n",
       "    </tr>\n",
       "    <tr>\n",
       "      <th>4</th>\n",
       "      <td>108457.763</td>\n",
       "      <td>5987.656</td>\n",
       "      <td>441.034</td>\n",
       "      <td>1543.720</td>\n",
       "    </tr>\n",
       "  </tbody>\n",
       "</table>\n",
       "</div>"
      ],
      "text/plain": [
       "   Impression_Control  Click_Control  Purchase_Control  Earning_Control\n",
       "0           82529.459       6090.077           665.211         2311.277\n",
       "1           98050.452       3382.862           315.085         1742.807\n",
       "2           82696.024       4167.966           458.084         1797.827\n",
       "3          109914.400       4910.882           487.091         1696.229\n",
       "4          108457.763       5987.656           441.034         1543.720"
      ]
     },
     "execution_count": 8,
     "metadata": {},
     "output_type": "execute_result"
    }
   ],
   "source": [
    "Control_Group.columns = [col+\"_Control\" for col in Control_Group.columns]\n",
    "Control_Group.head()"
   ]
  },
  {
   "cell_type": "code",
   "execution_count": 9,
   "id": "c0cf0968",
   "metadata": {},
   "outputs": [
    {
     "data": {
      "text/html": [
       "<div>\n",
       "<style scoped>\n",
       "    .dataframe tbody tr th:only-of-type {\n",
       "        vertical-align: middle;\n",
       "    }\n",
       "\n",
       "    .dataframe tbody tr th {\n",
       "        vertical-align: top;\n",
       "    }\n",
       "\n",
       "    .dataframe thead th {\n",
       "        text-align: right;\n",
       "    }\n",
       "</style>\n",
       "<table border=\"1\" class=\"dataframe\">\n",
       "  <thead>\n",
       "    <tr style=\"text-align: right;\">\n",
       "      <th></th>\n",
       "      <th>Impression_Test</th>\n",
       "      <th>Click_Test</th>\n",
       "      <th>Purchase_Test</th>\n",
       "      <th>Earning_Test</th>\n",
       "    </tr>\n",
       "  </thead>\n",
       "  <tbody>\n",
       "    <tr>\n",
       "      <th>0</th>\n",
       "      <td>120103.504</td>\n",
       "      <td>3216.548</td>\n",
       "      <td>702.160</td>\n",
       "      <td>1939.611</td>\n",
       "    </tr>\n",
       "    <tr>\n",
       "      <th>1</th>\n",
       "      <td>134775.943</td>\n",
       "      <td>3635.082</td>\n",
       "      <td>834.054</td>\n",
       "      <td>2929.406</td>\n",
       "    </tr>\n",
       "    <tr>\n",
       "      <th>2</th>\n",
       "      <td>107806.621</td>\n",
       "      <td>3057.144</td>\n",
       "      <td>422.934</td>\n",
       "      <td>2526.245</td>\n",
       "    </tr>\n",
       "    <tr>\n",
       "      <th>3</th>\n",
       "      <td>116445.276</td>\n",
       "      <td>4650.474</td>\n",
       "      <td>429.034</td>\n",
       "      <td>2281.429</td>\n",
       "    </tr>\n",
       "    <tr>\n",
       "      <th>4</th>\n",
       "      <td>145082.517</td>\n",
       "      <td>5201.388</td>\n",
       "      <td>749.860</td>\n",
       "      <td>2781.698</td>\n",
       "    </tr>\n",
       "  </tbody>\n",
       "</table>\n",
       "</div>"
      ],
      "text/plain": [
       "   Impression_Test  Click_Test  Purchase_Test  Earning_Test\n",
       "0       120103.504    3216.548        702.160      1939.611\n",
       "1       134775.943    3635.082        834.054      2929.406\n",
       "2       107806.621    3057.144        422.934      2526.245\n",
       "3       116445.276    4650.474        429.034      2281.429\n",
       "4       145082.517    5201.388        749.860      2781.698"
      ]
     },
     "execution_count": 9,
     "metadata": {},
     "output_type": "execute_result"
    }
   ],
   "source": [
    "Test_Group.columns = [col+\"_Test\" for col in Test_Group.columns]\n",
    "Test_Group.head()"
   ]
  },
  {
   "cell_type": "code",
   "execution_count": 10,
   "id": "cb001083",
   "metadata": {},
   "outputs": [
    {
     "data": {
      "text/html": [
       "<div>\n",
       "<style scoped>\n",
       "    .dataframe tbody tr th:only-of-type {\n",
       "        vertical-align: middle;\n",
       "    }\n",
       "\n",
       "    .dataframe tbody tr th {\n",
       "        vertical-align: top;\n",
       "    }\n",
       "\n",
       "    .dataframe thead th {\n",
       "        text-align: right;\n",
       "    }\n",
       "</style>\n",
       "<table border=\"1\" class=\"dataframe\">\n",
       "  <thead>\n",
       "    <tr style=\"text-align: right;\">\n",
       "      <th></th>\n",
       "      <th>Impression_Control</th>\n",
       "      <th>Click_Control</th>\n",
       "      <th>Purchase_Control</th>\n",
       "      <th>Earning_Control</th>\n",
       "      <th>Impression_Test</th>\n",
       "      <th>Click_Test</th>\n",
       "      <th>Purchase_Test</th>\n",
       "      <th>Earning_Test</th>\n",
       "    </tr>\n",
       "  </thead>\n",
       "  <tbody>\n",
       "    <tr>\n",
       "      <th>0</th>\n",
       "      <td>82529.459</td>\n",
       "      <td>6090.077</td>\n",
       "      <td>665.211</td>\n",
       "      <td>2311.277</td>\n",
       "      <td>120103.504</td>\n",
       "      <td>3216.548</td>\n",
       "      <td>702.160</td>\n",
       "      <td>1939.611</td>\n",
       "    </tr>\n",
       "    <tr>\n",
       "      <th>1</th>\n",
       "      <td>98050.452</td>\n",
       "      <td>3382.862</td>\n",
       "      <td>315.085</td>\n",
       "      <td>1742.807</td>\n",
       "      <td>134775.943</td>\n",
       "      <td>3635.082</td>\n",
       "      <td>834.054</td>\n",
       "      <td>2929.406</td>\n",
       "    </tr>\n",
       "    <tr>\n",
       "      <th>2</th>\n",
       "      <td>82696.024</td>\n",
       "      <td>4167.966</td>\n",
       "      <td>458.084</td>\n",
       "      <td>1797.827</td>\n",
       "      <td>107806.621</td>\n",
       "      <td>3057.144</td>\n",
       "      <td>422.934</td>\n",
       "      <td>2526.245</td>\n",
       "    </tr>\n",
       "    <tr>\n",
       "      <th>3</th>\n",
       "      <td>109914.400</td>\n",
       "      <td>4910.882</td>\n",
       "      <td>487.091</td>\n",
       "      <td>1696.229</td>\n",
       "      <td>116445.276</td>\n",
       "      <td>4650.474</td>\n",
       "      <td>429.034</td>\n",
       "      <td>2281.429</td>\n",
       "    </tr>\n",
       "    <tr>\n",
       "      <th>4</th>\n",
       "      <td>108457.763</td>\n",
       "      <td>5987.656</td>\n",
       "      <td>441.034</td>\n",
       "      <td>1543.720</td>\n",
       "      <td>145082.517</td>\n",
       "      <td>5201.388</td>\n",
       "      <td>749.860</td>\n",
       "      <td>2781.698</td>\n",
       "    </tr>\n",
       "  </tbody>\n",
       "</table>\n",
       "</div>"
      ],
      "text/plain": [
       "   Impression_Control  Click_Control  Purchase_Control  Earning_Control  \\\n",
       "0           82529.459       6090.077           665.211         2311.277   \n",
       "1           98050.452       3382.862           315.085         1742.807   \n",
       "2           82696.024       4167.966           458.084         1797.827   \n",
       "3          109914.400       4910.882           487.091         1696.229   \n",
       "4          108457.763       5987.656           441.034         1543.720   \n",
       "\n",
       "   Impression_Test  Click_Test  Purchase_Test  Earning_Test  \n",
       "0       120103.504    3216.548        702.160      1939.611  \n",
       "1       134775.943    3635.082        834.054      2929.406  \n",
       "2       107806.621    3057.144        422.934      2526.245  \n",
       "3       116445.276    4650.474        429.034      2281.429  \n",
       "4       145082.517    5201.388        749.860      2781.698  "
      ]
     },
     "execution_count": 10,
     "metadata": {},
     "output_type": "execute_result"
    }
   ],
   "source": [
    "df = pd.concat([Control_Group, Test_Group], axis=1)\n",
    "df.head()"
   ]
  },
  {
   "cell_type": "markdown",
   "id": "4a35af06",
   "metadata": {},
   "source": [
    "# AB Testing (Independent Two-Sample T-Test)"
   ]
  },
  {
   "cell_type": "markdown",
   "id": "3048c35b",
   "metadata": {},
   "source": [
    "Indepented Two Sample T-Test\n",
    "\n",
    "The Independent Samples t Test compares the means of two independent groups in order to determine whether there is statistical evidence that the associated population means are significantly different.\n",
    "\n",
    "\n",
    "Requirements\n",
    "\n",
    "1. Assumption Check\n",
    "\n",
    "* Normality Assumption: Non-normal population distributions, especially those that are thick-tailed or heavily skewed, considerably reduce the power of the test\n",
    "\n",
    "* Variance Homogeneity: When this assumption is violated and the sample sizes for each group differ, the p value is not trustworthy.\n",
    "\n",
    "2. Implementation of the Hypothesis\n",
    "\n",
    "* Independent two-sample t-test if assumptions are met (parametric test)\n",
    "* Mannwhitneyu test if assumptions are not provided (non-parametric test) \n",
    "\n",
    "Note:\n",
    "* If the normality is not provided, the mannwhitneyu test should be applied directly.\n",
    "\n",
    "* If the normality assumption is provided but the variance homogeneity is not provided, the equal_var parameter can be set to False for the two-sample t-test."
   ]
  },
  {
   "cell_type": "code",
   "execution_count": 13,
   "id": "71c48a38",
   "metadata": {},
   "outputs": [
    {
     "data": {
      "text/plain": [
       "Purchase_Control   550.894\n",
       "dtype: float64"
      ]
     },
     "execution_count": 13,
     "metadata": {},
     "output_type": "execute_result"
    }
   ],
   "source": [
    "A = pd.DataFrame(Control_Group[\"Purchase_Control\"])\n",
    "B = pd.DataFrame(Test_Group[\"Purchase_Test\"])\n",
    "\n",
    "A.mean() # Maximum Bidding"
   ]
  },
  {
   "cell_type": "code",
   "execution_count": 14,
   "id": "4ee40461",
   "metadata": {},
   "outputs": [
    {
     "data": {
      "text/plain": [
       "Purchase_Test   582.106\n",
       "dtype: float64"
      ]
     },
     "execution_count": 14,
     "metadata": {},
     "output_type": "execute_result"
    }
   ],
   "source": [
    "B.mean() # Average Bidding"
   ]
  },
  {
   "cell_type": "markdown",
   "id": "aa61116e",
   "metadata": {},
   "source": [
    "# Hypothesis"
   ]
  },
  {
   "cell_type": "markdown",
   "id": "d34dbfed",
   "metadata": {},
   "source": [
    "The null hypothesis (H0) and alternative hypothesis (H1) of the Independent Samples t Test can be expressed in two different but equivalent ways:\n",
    "\n",
    "H0: µ1 = µ2 (the two population means are equal)\n",
    "\n",
    "H1: µ1 ≠ µ2 (the two population means are not equal)\n",
    "\n",
    "\n",
    "For this study:\n",
    "\n",
    "H0 : There is no statistically significant difference between the Control group that was served “maximum bidding” campaign and Test group that was served “average bidding” campaign. (µ1 = µ2)\n",
    "\n",
    "H1 : There is statistically significant difference between the Control group that was served “maximum bidding” campaign and Test group that was served “average bidding” campaign. (µ1 != µ2)"
   ]
  },
  {
   "cell_type": "markdown",
   "id": "bb355ea9",
   "metadata": {},
   "source": [
    "# Assumption Check"
   ]
  },
  {
   "cell_type": "markdown",
   "id": "f55978ac",
   "metadata": {},
   "source": [
    "1. Normality Assumption\n",
    "   \n",
    "The Shapiro-Wilks Test for Normality\n",
    "\n",
    "    * H0: There is no statistically significant difference between sample distribution and theoretical normal distribution\n",
    "\n",
    "    * H1: There is statistically significant difference between sample distribution and theoretical normal distribution\n",
    "\n",
    "The test rejects the hypothesis of normality when the p-value is less than or equal to 0.05. \n",
    "Failing the normality test allows you to state with 95% confidence the data does not fit the normal distribution.\n",
    "\n",
    "p-value < 0.05 (H0 rejected)\n",
    "\n",
    "p-value > 0.05 (H0 not rejected)\n",
    "\n",
    "\n",
    "For this study:\n",
    "\n",
    "    * H0: There is no difference between the number of products purchased. (p-value < 0.05)\n",
    "    \n",
    "    * H1: Normal distribution assumption not provided."
   ]
  },
  {
   "cell_type": "code",
   "execution_count": 17,
   "id": "799562f5",
   "metadata": {},
   "outputs": [
    {
     "name": "stdout",
     "output_type": "stream",
     "text": [
      "Test Stat = 0.9773, p-value = 0.5891\n"
     ]
    }
   ],
   "source": [
    "test_stat, pvalue = shapiro(A[\"Purchase_Control\"])\n",
    "print('Test Stat = %.4f, p-value = %.4f' % (test_stat, pvalue))"
   ]
  },
  {
   "cell_type": "markdown",
   "id": "8b5f58fb",
   "metadata": {},
   "source": [
    "P-value is greater than 0.05, we can't reject Ho hypothesis. \n",
    "\n",
    "For this reason, we can say it is the normal distribution for the 1st group."
   ]
  },
  {
   "cell_type": "code",
   "execution_count": 18,
   "id": "29ce40e9",
   "metadata": {},
   "outputs": [
    {
     "name": "stdout",
     "output_type": "stream",
     "text": [
      "Test Stat = 0.9589, p-value = 0.1541\n"
     ]
    }
   ],
   "source": [
    "test_stat, pvalue = shapiro(B[\"Purchase_Test\"])\n",
    "print('Test Stat = %.4f, p-value = %.4f' % (test_stat, pvalue)) "
   ]
  },
  {
   "cell_type": "markdown",
   "id": "ca516ba4",
   "metadata": {},
   "source": [
    "P-value is greater than 0.05, we can't reject Ho hypothesis. \n",
    "\n",
    "For this reason, we can say it is the normal distribution for the 2nd group.\n",
    "\n",
    "Lastly, there is no statistically significant difference between sample distribution and theoretical normal distribution in groups A and B.\n"
   ]
  },
  {
   "cell_type": "markdown",
   "id": "4f67f477",
   "metadata": {},
   "source": [
    "2. Variance Homogeneity Assumption\n",
    "\n",
    "Levene’s Test for Homogeneity of Variances\n",
    "\n",
    "Levene’s test is an equal variance test. \n",
    "It can be used to check if our data sets fulfill the homogeneity of variance assumption before we perform the t-test or Analysis of Variance\n",
    "\n",
    "    * H0: the compared groups have equal variance.\n",
    "    \n",
    "    * H1: the compared groups do not have equal variance.\n",
    "\n",
    "\n",
    "For this study:\n",
    "\n",
    "    * H0: Variances are Homogeneous\n",
    "\n",
    "    * H1: Variances are not Homogeneous"
   ]
  },
  {
   "cell_type": "code",
   "execution_count": 19,
   "id": "a8dddd23",
   "metadata": {},
   "outputs": [
    {
     "name": "stdout",
     "output_type": "stream",
     "text": [
      "Test Stat = 2.6393, p-value = 0.1083\n"
     ]
    }
   ],
   "source": [
    "test_stat, pvalue = levene(A[\"Purchase_Control\"],\n",
    "                           B[\"Purchase_Test\"].dropna())\n",
    "\n",
    "print('Test Stat = %.4f, p-value = %.4f' % (test_stat, pvalue))"
   ]
  },
  {
   "cell_type": "markdown",
   "id": "9309c56b",
   "metadata": {},
   "source": [
    "P-value is greater than 0.05, we can't reject Ho hypothesis.\n",
    "\n",
    "The compared groups have equal variance.\n",
    "\n",
    "The assumptions of normality distribution and variance homogeneity were tested.\n",
    "\n",
    "Two assumptions are provided, now we can test for our main hypothesis.\n",
    "\n",
    "In our study, since our assumumption are made, we should apply parametric test(the independent two-sample t test). \n"
   ]
  },
  {
   "cell_type": "code",
   "execution_count": 20,
   "id": "c950a10c",
   "metadata": {},
   "outputs": [
    {
     "name": "stdout",
     "output_type": "stream",
     "text": [
      "Test Stat = -0.9416, p-value = 0.3493\n"
     ]
    }
   ],
   "source": [
    "test_stat, pvalue = ttest_ind(A[\"Purchase_Control\"],\n",
    "                              B[\"Purchase_Test\"],\n",
    "                              equal_var=True)\n",
    "\n",
    "print('Test Stat = %.4f, p-value = %.4f' % (test_stat, pvalue))"
   ]
  },
  {
   "cell_type": "markdown",
   "id": "290d85a9",
   "metadata": {},
   "source": [
    "P-value greater then 0.05 so H0 is not rejected.\n",
    "\n",
    "So, there is no statistically significant difference between the Control group that was served “maximum bidding” campaign and Test group that was served “average bidding” campaign.\n",
    "\n",
    "For this reason, I can recommend to Facebook continuing with the maximum bidding campaign currently used."
   ]
  },
  {
   "cell_type": "code",
   "execution_count": null,
   "id": "56e1556b",
   "metadata": {},
   "outputs": [],
   "source": []
  }
 ],
 "metadata": {
  "kernelspec": {
   "display_name": "Python 3 (ipykernel)",
   "language": "python",
   "name": "python3"
  },
  "language_info": {
   "codemirror_mode": {
    "name": "ipython",
    "version": 3
   },
   "file_extension": ".py",
   "mimetype": "text/x-python",
   "name": "python",
   "nbconvert_exporter": "python",
   "pygments_lexer": "ipython3",
   "version": "3.9.12"
  }
 },
 "nbformat": 4,
 "nbformat_minor": 5
}
